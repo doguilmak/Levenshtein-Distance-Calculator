{
 "cells": [
  {
   "cell_type": "markdown",
   "id": "6901c8db",
   "metadata": {},
   "source": [
    "<h1>Building Levenshtein Distance Calculator</h1>\n",
    "\n",
    "<h3>What is Levenshtein Distance?</h3>\n",
    "\n",
    "In information theory, linguistics, and computer science, the Levenshtein distance is a string metric for measuring the difference between two sequences. \n",
    "\n",
    "<img src=\"https://upload.wikimedia.org/wikipedia/commons/thumb/d/d1/Levenshtein_distance_animation.gif/600px-Levenshtein_distance_animation.gif\" alt=\"lev_dist_wiki\">\n",
    "\n",
    "Levenshtein distance is a lexical similarity measure which identifies the distance between one pair of strings. It does so by counting the number of times you would have to insert, delete or substitute a character from string 1 to make it like string 2.\n",
    "\n",
    "<h3>What is Lexical Similarity?</h3>\n",
    "\n",
    "In linguistics, lexical similarity is a measure of the degree to which the word sets of two given languages are similar. A lexical similarity of 1 (or 100%) would mean a total overlap between vocabularies, whereas 0 means there are no common words.\n",
    "\n",
    "<h3>Resources</h3>\n",
    "<ol>\n",
    "    <li><a href=\"https://en.wikipedia.org/wiki/Levenshtein_distance\">https://en.wikipedia.org/wiki/Levenshtein_distance</a></li>\n",
    "    <li><a href=\"https://en.wikipedia.org/wiki/Lexical_similarity\">https://en.wikipedia.org/wiki/Lexical_similarity</a></li>\n",
    "    <li><a href=\"https://en.wikipedia.org/wiki/Vladimir_Levenshtein\">https://en.wikipedia.org/wiki/Vladimir_Levenshtein</a></li>\n",
    "</ol>\n"
   ]
  },
  {
   "cell_type": "code",
   "execution_count": 1,
   "id": "bf7b0706",
   "metadata": {},
   "outputs": [],
   "source": [
    "import numpy as np"
   ]
  },
  {
   "cell_type": "markdown",
   "id": "191bb154",
   "metadata": {},
   "source": [
    "Building <code>max</code> funtion for calculading length"
   ]
  },
  {
   "cell_type": "code",
   "execution_count": 2,
   "id": "dae5f26b",
   "metadata": {},
   "outputs": [],
   "source": [
    "def max(a, b):\n",
    "    if a>=b and a>=b:\n",
    "        return a\n",
    "    else:\n",
    "        return b"
   ]
  },
  {
   "cell_type": "code",
   "execution_count": 3,
   "id": "f1c34425",
   "metadata": {},
   "outputs": [
    {
     "data": {
      "text/plain": [
       "6"
      ]
     },
     "execution_count": 3,
     "metadata": {},
     "output_type": "execute_result"
    }
   ],
   "source": [
    "max(4, 6)"
   ]
  },
  {
   "cell_type": "markdown",
   "id": "a94320aa",
   "metadata": {},
   "source": [
    "Building <code>min</code> function for Levenshtein distance"
   ]
  },
  {
   "cell_type": "code",
   "execution_count": 4,
   "id": "0f3eb347",
   "metadata": {},
   "outputs": [],
   "source": [
    "def min(a, b, c):\n",
    "    if a<=b and a<=c:\n",
    "        return a\n",
    "    elif b<=a and b<=c:\n",
    "        return b\n",
    "    else:\n",
    "        return c"
   ]
  },
  {
   "cell_type": "code",
   "execution_count": 5,
   "id": "6a2719c8",
   "metadata": {},
   "outputs": [
    {
     "data": {
      "text/plain": [
       "0"
      ]
     },
     "execution_count": 5,
     "metadata": {},
     "output_type": "execute_result"
    }
   ],
   "source": [
    "min(3, 1, 0)"
   ]
  },
  {
   "cell_type": "markdown",
   "id": "f4606753",
   "metadata": {},
   "source": [
    "Building <code>normalize</code> function for Levenshtein distance"
   ]
  },
  {
   "cell_type": "code",
   "execution_count": 6,
   "id": "e43fac0a",
   "metadata": {},
   "outputs": [],
   "source": [
    "def normalize(X, size):\n",
    "\n",
    "    if len(X) < size:\n",
    "        dif = size - len(X)\n",
    "        for i in range(dif):\n",
    "            X = X + \" \"\n",
    "\n",
    "    return X"
   ]
  },
  {
   "cell_type": "markdown",
   "id": "4a5a9107",
   "metadata": {},
   "source": [
    "Building <code>LevensteinDistance</code> function for finding difference between two sentences.\n",
    "\n",
    "<img src=\"https://wikimedia.org/api/rest_v1/media/math/render/svg/6224efffbe9a4e01afbddeeb900bfd1b3350b335\" alt=\"lev_dist_eq\">\n",
    "\n",
    "<br>\n",
    "\n",
    "The Levenshtein distance between two strings a, b (of length |a| and |b| respectively) is given by lev(a, b) where where the tail of some string x is a string of all but the first character of x, and x[n] is the n th character of the string x, counting from 0."
   ]
  },
  {
   "cell_type": "code",
   "execution_count": 7,
   "id": "596f7663",
   "metadata": {},
   "outputs": [],
   "source": [
    "def LevenshteinDistance(A, B):\n",
    "    \n",
    "    K = np.zeros((len(A) + 1, len(B) + 1))\n",
    "    A_len = len(A)\n",
    "    B_len = len(B)\n",
    "\n",
    "    for i in range(A_len):\n",
    "        K[i][0] = i\n",
    "    for i in range(B_len):\n",
    "        K[0][i] = i\n",
    "        \n",
    "    remove = 0\n",
    "    add= 0\n",
    "    change_position = 0\n",
    "\n",
    "    for i in range(1, A_len + 1):\n",
    "        for j in range (1, B_len + 1):\n",
    "            if A[i-1] == B[j-1]:\n",
    "                K[i][j] = K[i-1][j-1]\n",
    "            else:\n",
    "                remove =  K[i-1][ j] + 1\n",
    "                add = K[i][ j-1] + 1\n",
    "                change_position = K[i-1][ j-1] + 1\n",
    "                K[i][j] = min(remove, add, change_position)\n",
    "\n",
    "    return K[B_len-1][A_len-1]"
   ]
  },
  {
   "cell_type": "code",
   "execution_count": 8,
   "id": "95b07828",
   "metadata": {},
   "outputs": [
    {
     "name": "stdout",
     "output_type": "stream",
     "text": [
      "Sentence 1: Levenshtein\n",
      "Sentence 2: Levenshtein Distance\n"
     ]
    }
   ],
   "source": [
    "sentence_1 = input(\"Sentence 1: \").lower()\n",
    "sentence_2 = input(\"Sentence 2: \").lower()"
   ]
  },
  {
   "cell_type": "code",
   "execution_count": 9,
   "id": "2b5c4045",
   "metadata": {},
   "outputs": [
    {
     "data": {
      "text/plain": [
       "20"
      ]
     },
     "execution_count": 9,
     "metadata": {},
     "output_type": "execute_result"
    }
   ],
   "source": [
    "max_length = max(len(sentence_1), len(sentence_2))\n",
    "max_length"
   ]
  },
  {
   "cell_type": "markdown",
   "id": "4199ec8a",
   "metadata": {},
   "source": [
    "Normalize inputs"
   ]
  },
  {
   "cell_type": "code",
   "execution_count": 10,
   "id": "1e5540c5",
   "metadata": {},
   "outputs": [],
   "source": [
    "sentence_1 = normalize(sentence_1, max_length)\n",
    "sentence_2 = normalize(sentence_2, max_length)"
   ]
  },
  {
   "cell_type": "code",
   "execution_count": 11,
   "id": "57d74b74",
   "metadata": {},
   "outputs": [
    {
     "data": {
      "text/plain": [
       "'levenshtein         '"
      ]
     },
     "execution_count": 11,
     "metadata": {},
     "output_type": "execute_result"
    }
   ],
   "source": [
    "sentence_1"
   ]
  },
  {
   "cell_type": "code",
   "execution_count": 12,
   "id": "616173ff",
   "metadata": {},
   "outputs": [
    {
     "data": {
      "text/plain": [
       "'levenshtein distance'"
      ]
     },
     "execution_count": 12,
     "metadata": {},
     "output_type": "execute_result"
    }
   ],
   "source": [
    "sentence_2"
   ]
  },
  {
   "cell_type": "code",
   "execution_count": 13,
   "id": "8d870b15",
   "metadata": {},
   "outputs": [
    {
     "name": "stdout",
     "output_type": "stream",
     "text": [
      "Distance between sentence_1 and sentence_2 is 7.000000.\n"
     ]
    }
   ],
   "source": [
    "distance = LevenshteinDistance(sentence_1, sentence_2)\n",
    "print('Distance between sentence_1 and sentence_2 is %f.' % distance)"
   ]
  },
  {
   "cell_type": "code",
   "execution_count": 14,
   "id": "0edcc2b9",
   "metadata": {},
   "outputs": [
    {
     "name": "stdout",
     "output_type": "stream",
     "text": [
      "Similarity between sentence_1 and sentence_2 is 0.650000.\n"
     ]
    }
   ],
   "source": [
    "similarity = (max_length - distance) / max_length\n",
    "print('Similarity between sentence_1 and sentence_2 is %f.' % similarity)"
   ]
  },
  {
   "cell_type": "markdown",
   "id": "9d8f28d3",
   "metadata": {},
   "source": [
    "<hr>\n",
    "\n",
    "## Contact Me\n",
    "\n",
    "If you have something to say to me please contact me: \n",
    "\n",
    " - Twitter: [Doguilmak](https://twitter.com/Doguilmak)  \n",
    " - Mail address: doguilmak@gmail.com"
   ]
  }
 ],
 "metadata": {
  "kernelspec": {
   "display_name": "Python 3 (ipykernel)",
   "language": "python",
   "name": "python3"
  },
  "language_info": {
   "codemirror_mode": {
    "name": "ipython",
    "version": 3
   },
   "file_extension": ".py",
   "mimetype": "text/x-python",
   "name": "python",
   "nbconvert_exporter": "python",
   "pygments_lexer": "ipython3",
   "version": "3.9.7"
  }
 },
 "nbformat": 4,
 "nbformat_minor": 5
}
